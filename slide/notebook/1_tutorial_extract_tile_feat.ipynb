{
 "cells": [
  {
   "cell_type": "code",
   "execution_count": null,
   "metadata": {},
   "outputs": [
    {
     "ename": "",
     "evalue": "",
     "output_type": "error",
     "traceback": [
      "\u001b[1;31mRunning cells with 'trident_py310 (Python 3.10.13)' requires the ipykernel package.\n",
      "\u001b[1;31m<a href='command:jupyter.createPythonEnvAndSelectController'>Create a Python Environment</a> with the required packages.\n",
      "\u001b[1;31mOr install 'ipykernel' using the command: 'conda install -n trident_py310 ipykernel --update-deps --force-reinstall'"
     ]
    }
   ],
   "source": [
    "import os\n",
    "import matplotlib.pyplot as plt\n",
    "from osfile.manager import findFile\n",
    "from slide.tile import SlidePatcher, TileEncoder\n",
    "from slide.utils import get_slide_reader\n",
    "from slide.IO import print_attrs\n",
    "import h5py\n",
    "from slide.load import encoder_factory"
   ]
  },
  {
   "cell_type": "code",
   "execution_count": null,
   "metadata": {},
   "outputs": [],
   "source": [
    "format = \"ndpi\"\n",
    "dir = f\"/Users/mblons/dev/project/tipit/data/multiplex/hes/{format}\"\n",
    "act = \"A_AAAA1168\"\n",
    "wsipath, _ = findFile(dir, strings=act, isFolder=False)\n",
    "print(wsipath)\n",
    "reader = get_slide_reader(wsipath)\n",
    "SLIDE = reader(wsipath)\n",
    "print(f\"mpp at level 0: {SLIDE.mpp}\")\n",
    "print(f\"magnification: {SLIDE.magnification}\")\n",
    "print(f\"level count: {SLIDE.level_count}\")\n",
    "print(f\"level dimensions: {SLIDE.level_dimensions}\")\n",
    "print(f\"level downsamples {SLIDE.level_downsamples}\")\n",
    "PATCH_SIZE = 256\n",
    "SOURCE_MAG = SLIDE.magnification\n",
    "TARGET_MAG = 20\n",
    "OVERLAP = 0\n",
    "MASK_DOWNSAMPLE = 32\n",
    "MASK_TOLERANCE = 0.7\n",
    "OUTPUT_DIR = f\"./1_tutorial/tile_feat_{TARGET_MAG}x_{PATCH_SIZE}px_{OVERLAP}px_overlap\""
   ]
  },
  {
   "cell_type": "code",
   "execution_count": null,
   "metadata": {},
   "outputs": [],
   "source": [
    "thumbnail = SLIDE.get_thumbnail(size=(1024, 1024))\n",
    "fig, ax = plt.subplots(1, 1, figsize=(10, 10), layout=\"constrained\")\n",
    "ax.set_axis_off()\n",
    "ax.imshow(thumbnail, aspect=\"equal\")\n",
    "plt.show()"
   ]
  },
  {
   "cell_type": "code",
   "execution_count": null,
   "metadata": {},
   "outputs": [],
   "source": [
    "patcher = SlidePatcher(\n",
    "    SLIDE,\n",
    "    mag_0=SOURCE_MAG,\n",
    "    mag_target=TARGET_MAG,\n",
    "    patch_size=PATCH_SIZE,\n",
    "    overlap=OVERLAP,\n",
    "    mask_downsample=MASK_DOWNSAMPLE,\n",
    "    mask_tolerance=MASK_TOLERANCE,\n",
    "    xywh_only=False,\n",
    "    dst=OUTPUT_DIR,\n",
    ")\n",
    "print(f\"target mag: {patcher.mag_target}\")\n",
    "print(f\"target level: {patcher.level_target}\")\n",
    "print(f\"mask downsampling: {patcher.mask_downsample}\")\n",
    "print(f\"mask level: {patcher.level_mask}\")"
   ]
  },
  {
   "cell_type": "code",
   "execution_count": null,
   "metadata": {},
   "outputs": [],
   "source": [
    "with h5py.File(patcher.patch_path, \"r\") as h5_file:\n",
    "    print(\"Contents and Attributes in patch file:\")\n",
    "    h5_file.visititems(print_attrs)"
   ]
  },
  {
   "cell_type": "code",
   "execution_count": null,
   "metadata": {},
   "outputs": [],
   "source": [
    "# visu mask\n",
    "seg_dir = os.path.join(OUTPUT_DIR, \"segmentation\")\n",
    "seg_path = patcher.visualize_tissue_seg(size=(1024, 1024), save_seg=seg_dir, show=True)\n",
    "print(seg_path)"
   ]
  },
  {
   "cell_type": "code",
   "execution_count": null,
   "metadata": {},
   "outputs": [],
   "source": [
    "# visu cut\n",
    "visu_dir = os.path.join(OUTPUT_DIR, \"visualization\")\n",
    "cut_path = patcher.visualize_cut(size=(1024, 1024), save_cut=visu_dir, show=True)\n",
    "print(cut_path)"
   ]
  },
  {
   "cell_type": "code",
   "execution_count": null,
   "metadata": {},
   "outputs": [],
   "source": [
    "ENCODER = \"uni_v2\"\n",
    "DEVICE = \"mps\"\n",
    "BATCH_SIZE = 512\n",
    "model = encoder_factory(ENCODER)\n",
    "model.to(DEVICE)\n",
    "encoder = TileEncoder(\n",
    "        SLIDE,\n",
    "        tile_encoder=model,\n",
    "        coords_path=os.path.join(OUTPUT_DIR, \"patches\", f\"{SLIDE.name}_patches.h5\"),\n",
    "        device=DEVICE,\n",
    "        batch_max=BATCH_SIZE,\n",
    "        feat_only=False,\n",
    "        dst=OUTPUT_DIR,\n",
    "    )"
   ]
  },
  {
   "cell_type": "code",
   "execution_count": null,
   "metadata": {},
   "outputs": [],
   "source": [
    "with h5py.File(encoder.feat_path, \"r\") as h5_file:\n",
    "    print(\"Contents and Attributes in feats file:\")\n",
    "    h5_file.visititems(print_attrs)"
   ]
  },
  {
   "cell_type": "code",
   "execution_count": null,
   "metadata": {},
   "outputs": [],
   "source": [
    "def read_h5_embeddings(embs_path):\n",
    "    with h5py.File(embs_path, \"r\") as f:\n",
    "        attrs = dict(f[\"features\"].attrs)\n",
    "        feats = f[\"features\"][:]\n",
    "    return attrs, feats\n",
    "\n",
    "feats_attrs, feats = read_h5_embeddings(encoder.feat_path)\n",
    "\n",
    "\n",
    "def read_h5_coords(embs_path):\n",
    "    with h5py.File(embs_path, \"r\") as f:\n",
    "        attrs = dict(f[\"coords\"].attrs)\n",
    "        coords = f[\"coords\"][:]\n",
    "    return attrs, coords\n",
    "\n",
    "coord_attrs, coords = read_h5_coords(encoder.feat_path)"
   ]
  },
  {
   "cell_type": "code",
   "execution_count": null,
   "metadata": {},
   "outputs": [],
   "source": [
    "# visu feat \n",
    "umap_dir = os.path.join(OUTPUT_DIR, f\"cluster_{ENCODER}\")\n",
    "umap_path = encoder.visualize_feat(\n",
    "    pcs=50, neighbors=20, resolution=0.2, save_cluster=umap_dir, show=True\n",
    ")\n",
    "print(umap_path)"
   ]
  }
 ],
 "metadata": {
  "kernelspec": {
   "display_name": "trident_py310",
   "language": "python",
   "name": "python3"
  },
  "language_info": {
   "codemirror_mode": {
    "name": "ipython",
    "version": 3
   },
   "file_extension": ".py",
   "mimetype": "text/x-python",
   "name": "python",
   "nbconvert_exporter": "python",
   "pygments_lexer": "ipython3",
   "version": "3.10.13"
  }
 },
 "nbformat": 4,
 "nbformat_minor": 2
}
